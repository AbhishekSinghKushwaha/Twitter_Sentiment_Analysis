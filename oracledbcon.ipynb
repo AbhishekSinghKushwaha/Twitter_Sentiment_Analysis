{
 "cells": [
  {
   "cell_type": "code",
   "execution_count": 1,
   "metadata": {},
   "outputs": [],
   "source": [
    "# importing module \n",
    "import cx_Oracle "
   ]
  },
  {
   "cell_type": "code",
   "execution_count": null,
   "metadata": {},
   "outputs": [],
   "source": [
    "# Create a table in Oracle database \n",
    "try: \n",
    "  \n",
    "    con = cx_Oracle.connect('scott/tiger@localhost:1521/orcl',encoding=\"UTF-8\", nencoding=\"UTF-8\") \n",
    "      \n",
    "    # Now execute the sqlquery \n",
    "    cursor = con.cursor() \n",
    "      \n",
    "    # Creating a table srollno heading which is number \n",
    "    cursor.execute(\"create table Tweets(Name varchar2(100),Location varchar2(100), Tweets varchar2(500))\") \n",
    "                      \n",
    "    print(\"Table Created successful\") \n",
    "      \n",
    "except cx_Oracle.DatabaseError as e: \n",
    "    print(\"There is a problem with Oracle\", e) \n",
    "  \n",
    "  "
   ]
  },
  {
   "cell_type": "code",
   "execution_count": 2,
   "metadata": {},
   "outputs": [],
   "source": [
    "import csv"
   ]
  },
  {
   "cell_type": "code",
   "execution_count": 3,
   "metadata": {},
   "outputs": [],
   "source": [
    "con = cx_Oracle.connect('scott/tiger@localhost:1521/orcl',encoding=\"UTF-8\", nencoding=\"UTF-8\") \n",
    "cursor = con.cursor() \n",
    "with open(\"tweet_text.csv\", \"r\",encoding=\"utf8\") as csv_file:\n",
    "    csv_reader = csv.reader(csv_file, delimiter=',' )\n",
    "    for lines in csv_reader:\n",
    "        cursor.execute(\n",
    "            \"insert into Tweets (Name, Location, Tweets) values (:1, :2, :3)\",\n",
    "            (lines[0], lines[1], lines[2]))"
   ]
  },
  {
   "cell_type": "code",
   "execution_count": 5,
   "metadata": {},
   "outputs": [],
   "source": [
    "cursor.close()\n",
    "con.commit()\n",
    "con.close()"
   ]
  },
  {
   "cell_type": "code",
   "execution_count": null,
   "metadata": {},
   "outputs": [],
   "source": []
  },
  {
   "cell_type": "code",
   "execution_count": null,
   "metadata": {},
   "outputs": [],
   "source": [
    "\n"
   ]
  },
  {
   "cell_type": "code",
   "execution_count": null,
   "metadata": {},
   "outputs": [],
   "source": []
  }
 ],
 "metadata": {
  "kernelspec": {
   "display_name": "Python 3",
   "language": "python",
   "name": "python3"
  },
  "language_info": {
   "codemirror_mode": {
    "name": "ipython",
    "version": 3
   },
   "file_extension": ".py",
   "mimetype": "text/x-python",
   "name": "python",
   "nbconvert_exporter": "python",
   "pygments_lexer": "ipython3",
   "version": "3.8.3"
  }
 },
 "nbformat": 4,
 "nbformat_minor": 4
}
